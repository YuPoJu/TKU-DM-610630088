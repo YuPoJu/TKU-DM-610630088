{
 "cells": [
  {
   "cell_type": "code",
   "execution_count": 1,
   "id": "96aefff7",
   "metadata": {},
   "outputs": [
    {
     "name": "stdout",
     "output_type": "stream",
     "text": [
      "Hi Sekai\n"
     ]
    }
   ],
   "source": [
    "print(\"Hi Sekai\")"
   ]
  },
  {
   "cell_type": "code",
   "execution_count": 2,
   "id": "a8d73433",
   "metadata": {},
   "outputs": [],
   "source": [
    "a = 1"
   ]
  },
  {
   "cell_type": "code",
   "execution_count": 3,
   "id": "52aaee6a",
   "metadata": {},
   "outputs": [],
   "source": [
    "b = 2"
   ]
  },
  {
   "cell_type": "code",
   "execution_count": 4,
   "id": "67d3157c",
   "metadata": {},
   "outputs": [
    {
     "data": {
      "text/plain": [
       "1"
      ]
     },
     "execution_count": 4,
     "metadata": {},
     "output_type": "execute_result"
    }
   ],
   "source": [
    "a"
   ]
  },
  {
   "cell_type": "code",
   "execution_count": 5,
   "id": "df3b8986",
   "metadata": {},
   "outputs": [
    {
     "data": {
      "text/plain": [
       "2"
      ]
     },
     "execution_count": 5,
     "metadata": {},
     "output_type": "execute_result"
    }
   ],
   "source": [
    "b"
   ]
  },
  {
   "cell_type": "code",
   "execution_count": 6,
   "id": "51edea55",
   "metadata": {},
   "outputs": [],
   "source": [
    "c = d = 3"
   ]
  },
  {
   "cell_type": "code",
   "execution_count": 7,
   "id": "463f0835",
   "metadata": {},
   "outputs": [
    {
     "data": {
      "text/plain": [
       "3"
      ]
     },
     "execution_count": 7,
     "metadata": {},
     "output_type": "execute_result"
    }
   ],
   "source": [
    "c"
   ]
  },
  {
   "cell_type": "code",
   "execution_count": 8,
   "id": "cb876696",
   "metadata": {},
   "outputs": [
    {
     "data": {
      "text/plain": [
       "3"
      ]
     },
     "execution_count": 8,
     "metadata": {},
     "output_type": "execute_result"
    }
   ],
   "source": [
    "d"
   ]
  },
  {
   "cell_type": "code",
   "execution_count": 9,
   "id": "a8112708",
   "metadata": {},
   "outputs": [
    {
     "data": {
      "text/plain": [
       "1"
      ]
     },
     "execution_count": 9,
     "metadata": {},
     "output_type": "execute_result"
    }
   ],
   "source": [
    "b - a"
   ]
  },
  {
   "cell_type": "code",
   "execution_count": 10,
   "id": "a4e29454",
   "metadata": {},
   "outputs": [
    {
     "data": {
      "text/plain": [
       "6"
      ]
     },
     "execution_count": 10,
     "metadata": {},
     "output_type": "execute_result"
    }
   ],
   "source": [
    "b * c"
   ]
  },
  {
   "cell_type": "code",
   "execution_count": 13,
   "id": "097cb745",
   "metadata": {},
   "outputs": [
    {
     "data": {
      "text/plain": [
       "(3, 3)"
      ]
     },
     "execution_count": 13,
     "metadata": {},
     "output_type": "execute_result"
    }
   ],
   "source": [
    "c,d"
   ]
  },
  {
   "cell_type": "code",
   "execution_count": 14,
   "id": "27ca249e",
   "metadata": {},
   "outputs": [],
   "source": [
    "age,name = 23,\"帛儒\""
   ]
  },
  {
   "cell_type": "code",
   "execution_count": 15,
   "id": "f9773c1e",
   "metadata": {},
   "outputs": [
    {
     "data": {
      "text/plain": [
       "23"
      ]
     },
     "execution_count": 15,
     "metadata": {},
     "output_type": "execute_result"
    }
   ],
   "source": [
    "age"
   ]
  },
  {
   "cell_type": "code",
   "execution_count": 16,
   "id": "2f43d6a1",
   "metadata": {},
   "outputs": [
    {
     "data": {
      "text/plain": [
       "'帛儒'"
      ]
     },
     "execution_count": 16,
     "metadata": {},
     "output_type": "execute_result"
    }
   ],
   "source": [
    "name"
   ]
  },
  {
   "cell_type": "code",
   "execution_count": 17,
   "id": "cc74e405",
   "metadata": {},
   "outputs": [],
   "source": [
    "#e = 5"
   ]
  },
  {
   "cell_type": "code",
   "execution_count": 18,
   "id": "5d4cca7d",
   "metadata": {},
   "outputs": [
    {
     "ename": "NameError",
     "evalue": "name 'e' is not defined",
     "output_type": "error",
     "traceback": [
      "\u001b[1;31m---------------------------------------------------------------------------\u001b[0m",
      "\u001b[1;31mNameError\u001b[0m                                 Traceback (most recent call last)",
      "Input \u001b[1;32mIn [18]\u001b[0m, in \u001b[0;36m<cell line: 1>\u001b[1;34m()\u001b[0m\n\u001b[1;32m----> 1\u001b[0m \u001b[43me\u001b[49m\n",
      "\u001b[1;31mNameError\u001b[0m: name 'e' is not defined"
     ]
    }
   ],
   "source": [
    "e"
   ]
  },
  {
   "cell_type": "code",
   "execution_count": 19,
   "id": "c3561196",
   "metadata": {},
   "outputs": [],
   "source": [
    "str1 = \"Robert說:你好啊\"\n",
    "str2 = 'Robert說:你好啊'"
   ]
  },
  {
   "cell_type": "code",
   "execution_count": 20,
   "id": "7e053c81",
   "metadata": {},
   "outputs": [
    {
     "data": {
      "text/plain": [
       "'Robert說:你好啊'"
      ]
     },
     "execution_count": 20,
     "metadata": {},
     "output_type": "execute_result"
    }
   ],
   "source": [
    "str1"
   ]
  },
  {
   "cell_type": "code",
   "execution_count": 21,
   "id": "d8801b09",
   "metadata": {},
   "outputs": [
    {
     "data": {
      "text/plain": [
       "'Robert說:你好啊'"
      ]
     },
     "execution_count": 21,
     "metadata": {},
     "output_type": "execute_result"
    }
   ],
   "source": [
    "str2"
   ]
  },
  {
   "cell_type": "code",
   "execution_count": 22,
   "id": "2153da72",
   "metadata": {},
   "outputs": [
    {
     "name": "stdout",
     "output_type": "stream",
     "text": [
      "1 2 3\n",
      "[1, 2, 3]\n",
      "1 [2, 3]\n"
     ]
    }
   ],
   "source": [
    "print(a,b,c)\n",
    "print([a,b,c])\n",
    "print(a,[b,c])"
   ]
  },
  {
   "cell_type": "code",
   "execution_count": 27,
   "id": "090f94af",
   "metadata": {},
   "outputs": [
    {
     "name": "stdout",
     "output_type": "stream",
     "text": [
      "hey,hi,hello\n",
      "hey,hi,hello\n",
      "hey,hi,hello\n",
      "hey,hi,hello\n"
     ]
    }
   ],
   "source": [
    "print('hey,hi,hello')\n",
    "print('hey,hi,hello',sep='_')\n",
    "print('hey,hi,hello',sep='\\t')\n",
    "print('hey,hi,hello',sep='\\n')"
   ]
  },
  {
   "cell_type": "code",
   "execution_count": 24,
   "id": "d5e6b264",
   "metadata": {},
   "outputs": [
    {
     "name": "stdout",
     "output_type": "stream",
     "text": [
      "hey,hi,hello\n"
     ]
    }
   ],
   "source": [
    "print('hey,hi,hello',sep='_')"
   ]
  },
  {
   "cell_type": "code",
   "execution_count": 25,
   "id": "87a6e789",
   "metadata": {},
   "outputs": [
    {
     "name": "stdout",
     "output_type": "stream",
     "text": [
      "hey,hi,hello\n"
     ]
    }
   ],
   "source": [
    "print('hey,hi,hello',sep='\\t')"
   ]
  },
  {
   "cell_type": "code",
   "execution_count": 29,
   "id": "cef0dbfc",
   "metadata": {},
   "outputs": [],
   "source": [
    "chi=int\n",
    "eng=int\n",
    "mat=int\n",
    "grade=int"
   ]
  },
  {
   "cell_type": "code",
   "execution_count": 33,
   "id": "0a01df01",
   "metadata": {},
   "outputs": [
    {
     "name": "stdout",
     "output_type": "stream",
     "text": [
      "請輸入國文成績50\n",
      "請輸入英文成績50\n",
      "請輸入數學成績50\n",
      "你的總成績為 150\n"
     ]
    }
   ],
   "source": [
    "chi=int(input('請輸入國文成績'))\n",
    "eng=int(input('請輸入英文成績'))\n",
    "mat=int(input('請輸入數學成績'))\n",
    "print(\"你的總成績為\",chi+eng+mat)"
   ]
  },
  {
   "cell_type": "code",
   "execution_count": null,
   "id": "a3e305e2",
   "metadata": {},
   "outputs": [],
   "source": []
  }
 ],
 "metadata": {
  "kernelspec": {
   "display_name": "Python 3 (ipykernel)",
   "language": "python",
   "name": "python3"
  },
  "language_info": {
   "codemirror_mode": {
    "name": "ipython",
    "version": 3
   },
   "file_extension": ".py",
   "mimetype": "text/x-python",
   "name": "python",
   "nbconvert_exporter": "python",
   "pygments_lexer": "ipython3",
   "version": "3.8.13"
  }
 },
 "nbformat": 4,
 "nbformat_minor": 5
}
