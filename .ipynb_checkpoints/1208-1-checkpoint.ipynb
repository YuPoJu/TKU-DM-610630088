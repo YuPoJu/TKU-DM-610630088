{
 "cells": [
  {
   "cell_type": "markdown",
   "metadata": {
    "id": "jPZELMaNOkwC"
   },
   "source": [
    "## scikit-learn資料集"
   ]
  },
  {
   "cell_type": "code",
   "execution_count": null,
   "metadata": {},
   "outputs": [],
   "source": [
    "import pandas as pd\n",
    "import numpy as np"
   ]
  },
  {
   "cell_type": "code",
   "execution_count": 24,
   "metadata": {
    "colab": {
     "base_uri": "https://localhost:8080/"
    },
    "id": "Bgm7PXJ0OcYR",
    "outputId": "b9c6de4a-3ca8-4d93-dd4b-8ca3afc458eb"
   },
   "outputs": [],
   "source": [
    "from sklearn.datasets import load_iris\n",
    "iris = load_iris()"
   ]
  },
  {
   "cell_type": "code",
   "execution_count": 6,
   "metadata": {
    "colab": {
     "base_uri": "https://localhost:8080/"
    },
    "id": "3lt19UBUD_Un",
    "outputId": "fd0b7d19-5bcd-4ddb-b2bb-6c05a7b53445"
   },
   "outputs": [
    {
     "name": "stdout",
     "output_type": "stream",
     "text": [
      "目標值：\n",
      "[10  3 17 ...  3  1  7]\n",
      "目標名稱：\n",
      "['alt.atheism', 'comp.graphics', 'comp.os.ms-windows.misc', 'comp.sys.ibm.pc.hardware', 'comp.sys.mac.hardware', 'comp.windows.x', 'misc.forsale', 'rec.autos', 'rec.motorcycles', 'rec.sport.baseball', 'rec.sport.hockey', 'sci.crypt', 'sci.electronics', 'sci.med', 'sci.space', 'soc.religion.christian', 'talk.politics.guns', 'talk.politics.mideast', 'talk.politics.misc', 'talk.religion.misc']\n",
      "第一篇新聞內容：\n",
      "From: Mamatha Devineni Ratnam <mr47+@andrew.cmu.edu>\n",
      "Subject: Pens fans reactions\n",
      "Organization: Post Office, Carnegie Mellon, Pittsburgh, PA\n",
      "Lines: 12\n",
      "NNTP-Posting-Host: po4.andrew.cmu.edu\n",
      "\n",
      "\n",
      "\n",
      "I am sure some bashers of Pens fans are pretty confused about the lack\n",
      "of any kind of posts about the recent Pens massacre of the Devils. Actually,\n",
      "I am  bit puzzled too and a bit relieved. However, I am going to put an end\n",
      "to non-PIttsburghers' relief with a bit of praise for the Pens. Man, they\n",
      "are killing those Devils worse than I thought. Jagr just showed you why\n",
      "he is much better than his regular season stats. He is also a lot\n",
      "fo fun to watch in the playoffs. Bowman should let JAgr have a lot of\n",
      "fun in the next couple of games since the Pens are going to beat the pulp out of Jersey anyway. I was very disappointed not to see the Islanders lose the final\n",
      "regular season game.          PENS RULE!!!\n",
      "\n",
      "\n"
     ]
    }
   ],
   "source": [
    "from sklearn.datasets import fetch_20newsgroups\n",
    "news = fetch_20newsgroups(data_home='.', subset='all')\n",
    "print('目標值：')\n",
    "print(news.target)\n",
    "print('目標名稱：')\n",
    "print(news.target_names)\n",
    "print('第一篇新聞內容：')\n",
    "print(news.data[0])  #列印第一篇新聞"
   ]
  },
  {
   "cell_type": "code",
   "execution_count": 7,
   "metadata": {
    "colab": {
     "base_uri": "https://localhost:8080/"
    },
    "id": "xdCweqTMXK3T",
    "outputId": "3b342efa-15b9-4652-ac89-1cd46fd46731"
   },
   "outputs": [
    {
     "name": "stdout",
     "output_type": "stream",
     "text": [
      "原始_特徵：(150, 4), 原始_目標：(150,)\n",
      "訓練_特徵：(120, 4), 訓練_目標：(120,)\n",
      "測試_特徵：(30, 4), 測試_目標：(30,)\n"
     ]
    }
   ],
   "source": [
    "from sklearn.datasets import load_iris\n",
    "from sklearn.model_selection import train_test_split\n",
    "iris = load_iris()\n",
    "print('原始_特徵：{}, 原始_目標：{}'.\n",
    "      format(iris.data.shape, iris.target.shape))\n",
    "x_train, x_test, y_train, y_test = train_test_split(\n",
    "\t\tiris.data,\tiris.target, test_size=0.2)\n",
    "print('訓練_特徵：{}, 訓練_目標：{}'.\n",
    "      format(x_train.shape, y_train.shape))\n",
    "print('測試_特徵：{}, 測試_目標：{}'.\n",
    "      format(x_test.shape, y_test.shape))"
   ]
  },
  {
   "cell_type": "markdown",
   "metadata": {
    "id": "r2lPfwf3Zlna"
   },
   "source": [
    "## K近鄰演算法"
   ]
  },
  {
   "cell_type": "code",
   "execution_count": 8,
   "metadata": {
    "colab": {
     "base_uri": "https://localhost:8080/"
    },
    "id": "-ndOkP_cB6Vs",
    "outputId": "cceefcd6-b121-4c6d-d48d-e0a74797c021"
   },
   "outputs": [
    {
     "name": "stdout",
     "output_type": "stream",
     "text": [
      "  目標值：[2 2 1 2 2 0 2 1 1 2 0 1 2 1 2 1 0 1 0 0 0 0 0 1 0 0 1 2 1 1]\n",
      "預測結果：[2 2 1 2 2 0 2 1 1 2 0 1 2 1 1 1 0 1 0 0 0 0 0 1 0 0 1 2 1 1]\n",
      "  準確率：0.9666666666666667\n"
     ]
    }
   ],
   "source": [
    "from sklearn.datasets import load_iris\n",
    "from sklearn.model_selection import train_test_split\n",
    "from sklearn.neighbors import KNeighborsClassifier\n",
    "from sklearn.preprocessing import StandardScaler\n",
    "import numpy as np\n",
    "iris = load_iris()\n",
    "x_train , x_test , y_train , y_test = train_test_split(\n",
    "    iris.data,iris.target,test_size=0.2)\n",
    "std = StandardScaler()\n",
    "x_train = std.fit_transform(x_train)\n",
    "x_test = std.transform(x_test)\n",
    "knn = KNeighborsClassifier(n_neighbors=5)\n",
    "knn.fit(x_train, y_train)\n",
    "y_predict = knn.predict(x_test)\n",
    "print('  目標值：{}'.format(y_test))\n",
    "print('預測結果：{}'.format(y_predict))\n",
    "print('  準確率：{}'.format(knn.score(x_test, y_test)))"
   ]
  },
  {
   "cell_type": "markdown",
   "metadata": {
    "id": "l4UWPuZ_Hp4r"
   },
   "source": [
    "## K近鄰演算法應用：手寫數字"
   ]
  },
  {
   "cell_type": "code",
   "execution_count": 9,
   "metadata": {
    "id": "rK0N71bPHudn"
   },
   "outputs": [],
   "source": [
    "from sklearn.neighbors import \\\n",
    "    KNeighborsClassifier\n",
    "from sklearn.model_selection import \\\n",
    "    train_test_split\n",
    "import numpy as np\n",
    "import matplotlib.pyplot as plt"
   ]
  },
  {
   "cell_type": "code",
   "execution_count": null,
   "metadata": {
    "colab": {
     "base_uri": "https://localhost:8080/"
    },
    "id": "l994uBmWH0Ju",
    "outputId": "8200980f-5945-45b8-e16d-15cb603b353d"
   },
   "outputs": [],
   "source": [
    "!unzip mnist500.zip"
   ]
  },
  {
   "cell_type": "code",
   "execution_count": null,
   "metadata": {
    "colab": {
     "base_uri": "https://localhost:8080/"
    },
    "id": "QsI4ELv2Mfq8",
    "outputId": "e7c19184-bf33-4eb7-f7d8-91de28347ef7"
   },
   "outputs": [],
   "source": [
    "data = []\n",
    "for i in range(10):\n",
    "    for j in range(1,501):\n",
    "        data.append(plt.imread('mnist500/%d/%d_%d.bmp'%(i,i,j)))\n",
    "x = np.array(data)\n",
    "print(x.shape)"
   ]
  },
  {
   "cell_type": "code",
   "execution_count": null,
   "metadata": {
    "colab": {
     "base_uri": "https://localhost:8080/"
    },
    "id": "dVCmgNaOOJqs",
    "outputId": "f0c8ff1a-6bea-4582-f016-d7a0de23eac1"
   },
   "outputs": [],
   "source": [
    "y = [0,1,2,3,4,5,6,7,8,9]*500\n",
    "y = np.array(y)\n",
    "y.sort()\n",
    "print(y)"
   ]
  },
  {
   "cell_type": "code",
   "execution_count": 13,
   "metadata": {
    "colab": {
     "base_uri": "https://localhost:8080/"
    },
    "id": "DeOWjsLSPEbL",
    "outputId": "280595d4-d169-4148-814a-e902eff98bfc"
   },
   "outputs": [
    {
     "name": "stdout",
     "output_type": "stream",
     "text": [
      "0.94\n"
     ]
    }
   ],
   "source": [
    "x_train , x_test , y_train , y_test = \\\n",
    "    train_test_split(x,y,test_size=0.2)\n",
    "knn = KNeighborsClassifier(n_neighbors=5)\n",
    "knn.fit(x_train.reshape(4000,-1),y_train)\n",
    "score = knn.score(x_test.reshape(1000,-1),y_test)\n",
    "print(score)"
   ]
  },
  {
   "cell_type": "code",
   "execution_count": 14,
   "metadata": {
    "colab": {
     "base_uri": "https://localhost:8080/"
    },
    "id": "PxUdMJGXQenY",
    "outputId": "32f2d11f-f94b-48e2-9739-27f8097f3dc0"
   },
   "outputs": [
    {
     "name": "stderr",
     "output_type": "stream",
     "text": [
      "'unzip' 不是內部或外部命令、可執行的程式或批次檔。\n"
     ]
    }
   ],
   "source": [
    "#以<mnist1000.zip>進行手寫數字辨識\n",
    "from sklearn.neighbors import KNeighborsClassifier\n",
    "from sklearn.model_selection import train_test_split\n",
    "import numpy as np\n",
    "import matplotlib.pyplot as plt\n",
    "!unzip mnist1000.zip\n",
    "data = []\n",
    "for i in range(10):\n",
    "    for j in range(1,1001):\n",
    "        data.append(plt.imread('mnist1000/%d/%d_%d.bmp'%(i,i,j)))\n",
    "x = np.array(data)\n",
    "y = [0,1,2,3,4,5,6,7,8,9]*1000\n",
    "y = np.array(y)\n",
    "y.sort()"
   ]
  },
  {
   "cell_type": "code",
   "execution_count": 15,
   "metadata": {
    "colab": {
     "base_uri": "https://localhost:8080/"
    },
    "id": "4lXEtMRqTQ4O",
    "outputId": "fb50649f-a242-4e60-c51c-e035b3e0167a"
   },
   "outputs": [
    {
     "name": "stdout",
     "output_type": "stream",
     "text": [
      "0.943\n"
     ]
    }
   ],
   "source": [
    "x_train , x_test , y_train , y_test = train_test_split(x,y,test_size=0.2)\n",
    "knn = KNeighborsClassifier(n_neighbors=5)\n",
    "knn.fit(x_train.reshape(8000,-1),y_train)\n",
    "score = knn.score(x_test.reshape(2000,-1),y_test)\n",
    "print(score)"
   ]
  },
  {
   "cell_type": "markdown",
   "metadata": {
    "id": "UJFhG9BxX9UI"
   },
   "source": [
    "## 交叉驗證與網格搜索"
   ]
  },
  {
   "cell_type": "code",
   "execution_count": 16,
   "metadata": {
    "colab": {
     "base_uri": "https://localhost:8080/"
    },
    "id": "xkWzK4A3YktU",
    "outputId": "018e1e03-ca03-4a54-c893-ce33e868a9f9"
   },
   "outputs": [
    {
     "name": "stderr",
     "output_type": "stream",
     "text": [
      "'unzip' 不是內部或外部命令、可執行的程式或批次檔。\n"
     ]
    }
   ],
   "source": [
    "# 若前面已執行過解壓縮<mnist500.zip>就跳過此儲存格\n",
    "!unzip mnist500.zip"
   ]
  },
  {
   "cell_type": "code",
   "execution_count": 17,
   "metadata": {
    "colab": {
     "base_uri": "https://localhost:8080/"
    },
    "id": "HvxuuxlXbFVv",
    "outputId": "9ec7c641-6c3d-475b-db26-2dca4d036e33"
   },
   "outputs": [
    {
     "name": "stdout",
     "output_type": "stream",
     "text": [
      "最佳準確率：\n",
      "0.93575\n",
      "最佳參數組合：\n",
      "KNeighborsClassifier(n_neighbors=3, weights='distance')\n"
     ]
    }
   ],
   "source": [
    "from sklearn.neighbors import KNeighborsClassifier\n",
    "from sklearn.model_selection import \\\n",
    "    train_test_split, GridSearchCV\n",
    "import numpy as np\n",
    "import matplotlib.pyplot as plt\n",
    "data = []\n",
    "for i in range(10):\n",
    "    for j in range(1,501):\n",
    "        data.append(plt.imread('mnist500/%d/%d_%d.bmp'%(i,i,j)))\n",
    "x = np.array(data)\n",
    "y = [0,1,2,3,4,5,6,7,8,9]*500\n",
    "y = np.array(y)\n",
    "y.sort()\n",
    "x_train , x_test , y_train , y_test = train_test_split(\n",
    "    x,y,test_size=0.2)\n",
    "param = {'n_neighbors':[3,5,8,10], \n",
    "         'weights':['uniform','distance']}\n",
    "knn = KNeighborsClassifier()\n",
    "gc = GridSearchCV(knn, param_grid=param, cv=5)\n",
    "gc.fit(x_train.reshape(4000,-1),y_train)\n",
    "print('最佳準確率：')\n",
    "print(gc.best_score_)\n",
    "print('最佳參數組合：')\n",
    "print(gc.best_estimator_)"
   ]
  },
  {
   "cell_type": "code",
   "execution_count": 18,
   "metadata": {
    "colab": {
     "base_uri": "https://localhost:8080/"
    },
    "id": "AgZwY5bI2V7t",
    "outputId": "138dbf17-8e2c-4593-f3b9-c990fa62f29f"
   },
   "outputs": [
    {
     "name": "stdout",
     "output_type": "stream",
     "text": [
      "0.944\n"
     ]
    }
   ],
   "source": [
    "knn = KNeighborsClassifier(n_neighbors=3, \n",
    "                           weights='distance')\n",
    "knn.fit(x_train.reshape(4000,-1),y_train)\n",
    "score = knn.score(x_test.reshape(1000,-1),y_test)\n",
    "print(score)"
   ]
  },
  {
   "cell_type": "markdown",
   "metadata": {
    "id": "ThyU0BR2mpLj"
   },
   "source": [
    "## 模型儲存與讀取"
   ]
  },
  {
   "cell_type": "code",
   "execution_count": 19,
   "metadata": {
    "colab": {
     "base_uri": "https://localhost:8080/"
    },
    "id": "hq3RtKBhm036",
    "outputId": "683e4c02-4e10-4700-a0ad-23957fcb0af4"
   },
   "outputs": [
    {
     "name": "stderr",
     "output_type": "stream",
     "text": [
      "'unzip' 不是內部或外部命令、可執行的程式或批次檔。\n"
     ]
    }
   ],
   "source": [
    "# 若前面已執行過解壓縮<mnist500.zip>就跳過此儲存格\n",
    "!unzip mnist500.zip"
   ]
  },
  {
   "cell_type": "code",
   "execution_count": 20,
   "metadata": {
    "colab": {
     "base_uri": "https://localhost:8080/"
    },
    "id": "O-Z_QMtYmVPO",
    "outputId": "c343e8e4-b33f-4289-f900-0a643ce12ee3"
   },
   "outputs": [
    {
     "data": {
      "text/plain": [
       "['mnist500.pkl']"
      ]
     },
     "execution_count": 20,
     "metadata": {},
     "output_type": "execute_result"
    }
   ],
   "source": [
    "from sklearn.neighbors import \\\n",
    "    KNeighborsClassifier\n",
    "from sklearn.model_selection \\\n",
    "    import train_test_split\n",
    "import numpy as np\n",
    "import matplotlib.pyplot as plt\n",
    "import joblib\n",
    "data = []\n",
    "for i in range(10):\n",
    "    for j in range(1,501):\n",
    "        data.append(plt.imread(\n",
    "            'mnist500/%d/%d_%d.bmp'%(i,i,j)))\n",
    "x = np.array(data)\n",
    "y = [0,1,2,3,4,5,6,7,8,9]*500\n",
    "y = np.array(y)\n",
    "y.sort()\n",
    "x_train , x_test , y_train , y_test = \\\n",
    "    train_test_split(x,y,test_size=0.2)\n",
    "knn = KNeighborsClassifier(n_neighbors=5)\n",
    "knn.fit(x_train.reshape(4000,-1),y_train)\n",
    "joblib.dump(knn, 'mnist500.pkl')"
   ]
  },
  {
   "cell_type": "code",
   "execution_count": 21,
   "metadata": {
    "colab": {
     "base_uri": "https://localhost:8080/"
    },
    "id": "Z22c5YN-tPGT",
    "outputId": "652f7b53-28bf-4b3c-b9db-38de8f67bb18"
   },
   "outputs": [
    {
     "name": "stdout",
     "output_type": "stream",
     "text": [
      "0.941\n"
     ]
    }
   ],
   "source": [
    "knnmodel = joblib.load('mnist500.pkl')\n",
    "score = knnmodel.score(x_test.reshape(1000,-1),y_test)\n",
    "print(score)"
   ]
  },
  {
   "cell_type": "markdown",
   "metadata": {
    "id": "YLqzNCVK0xMx"
   },
   "source": [
    "## 樸素貝葉斯演算法"
   ]
  },
  {
   "cell_type": "code",
   "execution_count": 22,
   "metadata": {
    "colab": {
     "base_uri": "https://localhost:8080/"
    },
    "id": "hfo7RJ6a4wJE",
    "outputId": "2e4b9e07-e140-49cf-ec69-2b8d36b1529a"
   },
   "outputs": [
    {
     "name": "stdout",
     "output_type": "stream",
     "text": [
      "[[1 0 1 0 1 1 1 0]\n",
      " [1 1 0 1 1 0 1 1]]\n",
      "['code' 'dislike' 'easy' 'hard' 'is' 'like' 'python' 'too']\n"
     ]
    }
   ],
   "source": [
    "from sklearn.feature_extraction.text import CountVectorizer\n",
    "cv = CountVectorizer()\n",
    "data = cv.fit_transform(['code is easy, i like python', \n",
    "                         'code is too hard, i dislike python'])\n",
    "#print(data)\n",
    "print(data.toarray())\n",
    "print(cv.get_feature_names_out())"
   ]
  },
  {
   "cell_type": "code",
   "execution_count": 23,
   "metadata": {
    "colab": {
     "base_uri": "https://localhost:8080/"
    },
    "id": "fwdSLGlM58yy",
    "outputId": "12f44765-f33e-4197-aaf6-d66dc202bf70"
   },
   "outputs": [
    {
     "ename": "ModuleNotFoundError",
     "evalue": "No module named 'jieba'",
     "output_type": "error",
     "traceback": [
      "\u001b[1;31m---------------------------------------------------------------------------\u001b[0m",
      "\u001b[1;31mModuleNotFoundError\u001b[0m                       Traceback (most recent call last)",
      "Input \u001b[1;32mIn [23]\u001b[0m, in \u001b[0;36m<cell line: 1>\u001b[1;34m()\u001b[0m\n\u001b[1;32m----> 1\u001b[0m \u001b[38;5;28;01mimport\u001b[39;00m \u001b[38;5;21;01mjieba\u001b[39;00m\n\u001b[0;32m      2\u001b[0m t1 \u001b[38;5;241m=\u001b[39m \u001b[38;5;28mlist\u001b[39m(jieba\u001b[38;5;241m.\u001b[39mcut(\u001b[38;5;124m'\u001b[39m\u001b[38;5;124m今天台北天氣晴朗，風景區擠滿了人潮。\u001b[39m\u001b[38;5;124m'\u001b[39m))\n\u001b[0;32m      3\u001b[0m t2 \u001b[38;5;241m=\u001b[39m \u001b[38;5;28mlist\u001b[39m(jieba\u001b[38;5;241m.\u001b[39mcut(\u001b[38;5;124m'\u001b[39m\u001b[38;5;124m台北的天氣常常下雨。\u001b[39m\u001b[38;5;124m'\u001b[39m))\n",
      "\u001b[1;31mModuleNotFoundError\u001b[0m: No module named 'jieba'"
     ]
    }
   ],
   "source": [
    "import jieba\n",
    "t1 = list(jieba.cut('今天台北天氣晴朗，風景區擠滿了人潮。'))\n",
    "t2 = list(jieba.cut('台北的天氣常常下雨。'))\n",
    "c1 = ' '.join(t1)\n",
    "c2 = ' '.join(t2)\n",
    "print(c1)\n",
    "print(c2)"
   ]
  },
  {
   "cell_type": "code",
   "execution_count": null,
   "metadata": {
    "colab": {
     "base_uri": "https://localhost:8080/"
    },
    "id": "044pRCUrHPA9",
    "outputId": "1675c0b2-cc9f-4283-9cf9-a7e592d70a4c"
   },
   "outputs": [],
   "source": [
    "cv = CountVectorizer()\n",
    "data = cv.fit_transform([c1, c2])\n",
    "print(data.toarray())\n",
    "print(cv.get_feature_names_out())"
   ]
  },
  {
   "cell_type": "code",
   "execution_count": null,
   "metadata": {
    "colab": {
     "base_uri": "https://localhost:8080/"
    },
    "id": "KRBkGjG-JRqW",
    "outputId": "22c8887c-3b85-4028-c974-4da3f50aaa34"
   },
   "outputs": [],
   "source": [
    "from sklearn.feature_extraction.text import TfidfVectorizer\n",
    "tf = TfidfVectorizer()\n",
    "data = tf.fit_transform([c1, c2])\n",
    "print(data.toarray())\n",
    "print(cv.get_feature_names_out())"
   ]
  },
  {
   "cell_type": "code",
   "execution_count": null,
   "metadata": {
    "colab": {
     "base_uri": "https://localhost:8080/"
    },
    "id": "zJloEP-UN4KP",
    "outputId": "787d9831-b6ae-4e2b-8c3c-8e76e4a19e6e"
   },
   "outputs": [],
   "source": [
    "from sklearn.datasets import fetch_20newsgroups\n",
    "from sklearn.model_selection import train_test_split\n",
    "from sklearn.feature_extraction.text import TfidfVectorizer\n",
    "from sklearn.naive_bayes import MultinomialNB\n",
    "news = fetch_20newsgroups(subset='all')\n",
    "x_train, x_test, y_train, y_test = train_test_split(\n",
    "    news.data, news.target, test_size=0.20)\n",
    "tf = TfidfVectorizer()\n",
    "x_train = tf.fit_transform(x_train)  \n",
    "x_test = tf.transform(x_test)\n",
    "mlt = MultinomialNB(alpha=1.0)\n",
    "mlt.fit(x_train, y_train)\n",
    "score = mlt.score(x_test, y_test)\n",
    "print(score)"
   ]
  },
  {
   "cell_type": "code",
   "execution_count": null,
   "metadata": {
    "colab": {
     "base_uri": "https://localhost:8080/"
    },
    "id": "0MoRSh15WH9J",
    "outputId": "0a7533a8-328a-4185-f99d-3f8b5a40e412"
   },
   "outputs": [],
   "source": [
    "from sklearn.model_selection import train_test_split\n",
    "from sklearn.feature_extraction.text import TfidfVectorizer\n",
    "from sklearn.naive_bayes import MultinomialNB\n",
    "import jieba\n",
    "f = open('toutiao_cat_data.txt',encoding='utf-8')\n",
    "data = []\n",
    "target = []\n",
    "for line in f:\n",
    "  linelist = line.split('_!_')\n",
    "  target.append(linelist[1])\n",
    "  tem = list(jieba.cut(linelist[3]))\n",
    "  data.append(' '.join(tem))\n",
    "x_train, x_test, y_train, y_test = train_test_split(\n",
    "    data, target, test_size=0.20)\n",
    "tf = TfidfVectorizer()\n",
    "x_train = tf.fit_transform(x_train)  \n",
    "x_test = tf.transform(x_test)\n",
    "mlt = MultinomialNB(alpha=1.0)\n",
    "mlt.fit(x_train, y_train)\n",
    "score = mlt.score(x_test, y_test)\n",
    "print(score)"
   ]
  },
  {
   "cell_type": "markdown",
   "metadata": {
    "id": "-TDQKVy4jaq6"
   },
   "source": [
    "## 決策樹"
   ]
  },
  {
   "cell_type": "code",
   "execution_count": null,
   "metadata": {
    "colab": {
     "base_uri": "https://localhost:8080/"
    },
    "id": "WhOpuXJOjs0m",
    "outputId": "0f26323b-500f-4668-f6b5-5b16a2ba9300"
   },
   "outputs": [],
   "source": [
    "from sklearn.model_selection import train_test_split\n",
    "from sklearn.feature_extraction import DictVectorizer\n",
    "from sklearn.tree import DecisionTreeClassifier\n",
    "import pandas as pd\n",
    "\n",
    "df = pd.read_csv('titanic.csv')\n",
    "x = df[['pclass', 'age', 'sex']]\n",
    "y = df['survived']\n",
    "x['age'].fillna(x['age'].mean(), inplace=True) #空值填充\n",
    "x_train, x_test, y_train, y_test = train_test_split(\n",
    "    x, y, test_size=0.2)\n",
    "dict = DictVectorizer(sparse=False)\n",
    "x_train = x_train.to_dict(orient='records')\n",
    "x_train = dict.fit_transform(x_train)\n",
    "x_test = x_test.to_dict(orient='records')\n",
    "x_test = dict.transform(x_test)\n",
    "print('訓練資料：')\n",
    "print(x_train)\n",
    "print('onehot 特徵名稱：')\n",
    "print(dict.get_feature_names_out())"
   ]
  },
  {
   "cell_type": "code",
   "execution_count": null,
   "metadata": {
    "colab": {
     "base_uri": "https://localhost:8080/"
    },
    "id": "8t6nE12RETmu",
    "outputId": "fbe2829c-0d95-4cd0-8a72-aac5fd31f0a6"
   },
   "outputs": [],
   "source": [
    "dec = DecisionTreeClassifier()\n",
    "dec.fit(x_train, y_train)\n",
    "score = dec.score(x_test, y_test)\n",
    "print(score)"
   ]
  },
  {
   "cell_type": "markdown",
   "metadata": {
    "id": "EG8kj_XcGusF"
   },
   "source": [
    "## 隨機森林"
   ]
  },
  {
   "cell_type": "code",
   "execution_count": null,
   "metadata": {
    "colab": {
     "base_uri": "https://localhost:8080/"
    },
    "id": "kmB_l5a5R5M6",
    "outputId": "57e2530d-c0e4-494e-f79d-4ddd65b9c5ee"
   },
   "outputs": [],
   "source": [
    "from sklearn.model_selection import train_test_split\n",
    "from sklearn.ensemble import RandomForestClassifier\n",
    "import pandas as pd\n",
    "\n",
    "df = pd.read_csv('wine.csv')\n",
    "x = df.iloc[:, 1:14]\n",
    "y = df.iloc[:, 0]\n",
    "x_train, x_test, y_train, y_test = train_test_split(\n",
    "    x, y, test_size=0.2)\n",
    "rf = RandomForestClassifier(n_estimators=10, \n",
    "                            min_samples_split=30)\n",
    "rf.fit(x_train, y_train)\n",
    "score = rf.score(x_test, y_test)\n",
    "print(score)"
   ]
  },
  {
   "cell_type": "code",
   "execution_count": null,
   "metadata": {},
   "outputs": [],
   "source": []
  }
 ],
 "metadata": {
  "colab": {
   "collapsed_sections": [],
   "name": "機器學習：監督式學習分類演算法.ipynb",
   "provenance": [],
   "toc_visible": true
  },
  "kernelspec": {
   "display_name": "Python 3 (ipykernel)",
   "language": "python",
   "name": "python3"
  },
  "language_info": {
   "codemirror_mode": {
    "name": "ipython",
    "version": 3
   },
   "file_extension": ".py",
   "mimetype": "text/x-python",
   "name": "python",
   "nbconvert_exporter": "python",
   "pygments_lexer": "ipython3",
   "version": "3.9.12"
  }
 },
 "nbformat": 4,
 "nbformat_minor": 1
}
